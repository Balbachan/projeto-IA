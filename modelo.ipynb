{
  "cells": [
    {
      "cell_type": "code",
      "execution_count": null,
      "metadata": {
        "id": "tDoWOnLTo6fT"
      },
      "outputs": [],
      "source": [
        "# Bibliotecas utilizadas\n",
        "import pandas as pd\n",
        "import matplotlib.pyplot as plt\n",
        "from sklearn.model_selection import train_test_split\n",
        "from sklearn.preprocessing import OneHotEncoder, StandardScaler\n",
        "from sklearn.compose import ColumnTransformer\n",
        "from sklearn.pipeline import Pipeline\n",
        "from sklearn.linear_model import LinearRegression\n",
        "from sklearn.tree import DecisionTreeRegressor\n",
        "from sklearn.ensemble import RandomForestRegressor\n",
        "from sklearn.metrics import r2_score, mean_squared_error"
      ]
    },
    {
      "cell_type": "code",
      "execution_count": 23,
      "metadata": {
        "id": "UMFVWnxZo2Bq"
      },
      "outputs": [],
      "source": [
        "# Carrega o primeiro dataset\n",
        "file_path1 = 'games_data0.xlsx'\n",
        "games_df0 = pd.read_excel(file_path1, sheet_name='Games')\n",
        "\n",
        "# Carrega o segundo dataset\n",
        "file_path2 = 'games_data.xlsx'\n",
        "games_df = pd.read_excel(file_path2, sheet_name='Games')\n",
        "\n",
        "# Dá merge nos datasets carregados\n",
        "merged_games_df = pd.concat([games_df0, games_df], ignore_index=True)\n",
        "\n",
        "# Salvar o dataset mesclado\n",
        "merged_games_df.to_excel('merged_games_data.xlsx', index=False, sheet_name='Games')"
      ]
    },
    {
      "cell_type": "code",
      "execution_count": 24,
      "metadata": {
        "id": "01lTB22wpHeQ"
      },
      "outputs": [],
      "source": [
        "# Selecionando features e target\n",
        "target = 'popularity'\n",
        "categorical_features = ['category', 'genres', 'game_modes', 'platforms', 'player_perspectives', 'themes']\n",
        "numerical_features = ['total_rating', 'total_rating_count']\n",
        "\n",
        "# Remover linhas com valores ausentes em features numéricas\n",
        "games_cleaned = merged_games_df.dropna(subset=numerical_features)\n",
        "\n",
        "# Dividindo dados em features (X) e target (y)\n",
        "X = games_cleaned[categorical_features + numerical_features]\n",
        "y = games_cleaned[target]\n",
        "\n",
        "# Dividindo em conjuntos de treino e teste\n",
        "X_train, X_test, y_train, y_test = train_test_split(X, y, test_size=0.2, random_state=42)\n",
        "\n",
        "# Pré-processamento: OneHotEncoding para categóricos, StandardScaler para numéricos\n",
        "preprocessor = ColumnTransformer(\n",
        "    transformers=[\n",
        "        ('num', StandardScaler(), numerical_features),\n",
        "        ('cat', OneHotEncoder(handle_unknown='ignore'), categorical_features)\n",
        "    ]\n",
        ")"
      ]
    },
    {
      "cell_type": "code",
      "execution_count": 25,
      "metadata": {
        "id": "qj7oYpP1pR7f"
      },
      "outputs": [],
      "source": [
        "# Pipeline para Regressão Linear\n",
        "linear_pipeline = Pipeline(steps=[('preprocessor', preprocessor),\n",
        "                                  ('model', LinearRegression())])\n",
        "\n",
        "# Pipeline para Árvore de Decisão\n",
        "tree_pipeline = Pipeline(steps=[('preprocessor', preprocessor),\n",
        "                                 ('model', DecisionTreeRegressor(random_state=24))])\n",
        "\n",
        "# Pipeline para Random Forest\n",
        "random_forest_pipeline = Pipeline(steps=[('preprocessor', preprocessor),\n",
        "                                         ('model', RandomForestRegressor(random_state=24, n_estimators=100))])"
      ]
    },
    {
      "cell_type": "code",
      "execution_count": 26,
      "metadata": {
        "colab": {
          "base_uri": "https://localhost:8080/"
        },
        "id": "2YziGSk-iByA",
        "outputId": "c11150e9-7312-4c83-f94c-6b719dcf4339"
      },
      "outputs": [
        {
          "name": "stdout",
          "output_type": "stream",
          "text": [
            "Regressão Linear:\n",
            "R²: 0.4764, RMSE: 0.0001\n",
            "\n",
            "Árvore de Decisão:\n",
            "R²: 0.7708, RMSE: 0.0000\n",
            "\n",
            "Random Forest:\n",
            "R²: 0.8408, RMSE: 0.0000\n"
          ]
        },
        {
          "name": "stderr",
          "output_type": "stream",
          "text": [
            "/usr/local/lib/python3.10/dist-packages/sklearn/metrics/_regression.py:492: FutureWarning: 'squared' is deprecated in version 1.4 and will be removed in 1.6. To calculate the root mean squared error, use the function'root_mean_squared_error'.\n",
            "  warnings.warn(\n",
            "/usr/local/lib/python3.10/dist-packages/sklearn/metrics/_regression.py:492: FutureWarning: 'squared' is deprecated in version 1.4 and will be removed in 1.6. To calculate the root mean squared error, use the function'root_mean_squared_error'.\n",
            "  warnings.warn(\n",
            "/usr/local/lib/python3.10/dist-packages/sklearn/metrics/_regression.py:492: FutureWarning: 'squared' is deprecated in version 1.4 and will be removed in 1.6. To calculate the root mean squared error, use the function'root_mean_squared_error'.\n",
            "  warnings.warn(\n"
          ]
        }
      ],
      "source": [
        "# Treinando Regressão Linear\n",
        "linear_pipeline.fit(X_train, y_train)\n",
        "y_pred_linear = linear_pipeline.predict(X_test)\n",
        "\n",
        "# Treinando Árvore de Decisão\n",
        "tree_pipeline.fit(X_train, y_train)\n",
        "y_pred_tree = tree_pipeline.predict(X_test)\n",
        "\n",
        "# Treinando o modelo Random Forest\n",
        "random_forest_pipeline.fit(X_train, y_train)\n",
        "y_pred_forest = random_forest_pipeline.predict(X_test)\n",
        "\n",
        "# Avaliando os modelos\n",
        "linear_r2 = r2_score(y_test, y_pred_linear)\n",
        "linear_rmse = mean_squared_error(y_test, y_pred_linear, squared=False)\n",
        "\n",
        "tree_r2 = r2_score(y_test, y_pred_tree)\n",
        "tree_rmse = mean_squared_error(y_test, y_pred_tree, squared=False)\n",
        "\n",
        "forest_r2 = r2_score(y_test, y_pred_forest)\n",
        "forest_rmse = mean_squared_error(y_test, y_pred_forest, squared=False)\n",
        "\n",
        "# Exibindo resultados\n",
        "print(\"Regressão Linear:\")\n",
        "print(f\"R²: {linear_r2:.4f}, RMSE: {linear_rmse:.4f}\")\n",
        "\n",
        "print(\"\\nÁrvore de Decisão:\")\n",
        "print(f\"R²: {tree_r2:.4f}, RMSE: {tree_rmse:.4f}\")\n",
        "\n",
        "print(\"\\nRandom Forest:\")\n",
        "print(f\"R²: {forest_r2:.4f}, RMSE: {forest_rmse:.4f}\")\n"
      ]
    },
    {
      "cell_type": "code",
      "execution_count": 28,
      "metadata": {
        "colab": {
          "base_uri": "https://localhost:8080/"
        },
        "id": "sxfNCnCbsFA9",
        "outputId": "c1b2ead7-56d4-4e68-eb6e-a00c553ce0ec"
      },
      "outputs": [
        {
          "name": "stdout",
          "output_type": "stream",
          "text": [
            "\n",
            "Top 10 Variáveis Mais Importantes para a Popularidade (Random Forest):\n",
            "                                               Feature  Importance\n",
            "1                                   total_rating_count    0.756502\n",
            "0                                         total_rating    0.028771\n",
            "423                         themes_Warfare, Historical    0.016395\n",
            "324             themes_Action, Science fiction, Horror    0.015572\n",
            "298                   player_perspectives_Third person    0.015108\n",
            "200  platforms_console, operating_system, console, ...    0.011553\n",
            "181  platforms_computer, operating_system, operatin...    0.009767\n",
            "166  game_modes_Single player, Multiplayer, Co-oper...    0.009471\n",
            "87                genres_Role-playing (RPG), Adventure    0.005433\n",
            "165              game_modes_Single player, Multiplayer    0.004963\n"
          ]
        }
      ],
      "source": [
        "# Acessando o modelo Random Forest dentro do pipeline\n",
        "rf_model = random_forest_pipeline.named_steps['model']\n",
        "\n",
        "# Obtendo a importância das variáveis\n",
        "importances = rf_model.feature_importances_\n",
        "\n",
        "# Obtendo os nomes das variáveis (categóricas e numéricas)\n",
        "# Categóricas: OneHotEncoder cria colunas extras, então precisamos de todos os nomes das colunas\n",
        "cat_columns = random_forest_pipeline.named_steps['preprocessor'].transformers_[1][1].get_feature_names_out(categorical_features)\n",
        "\n",
        "# Combinando as variáveis numéricas e categóricas\n",
        "features = numerical_features + list(cat_columns)\n",
        "\n",
        "# Criando um DataFrame para as importâncias\n",
        "importance_df = pd.DataFrame({'Feature': features, 'Importance': importances})\n",
        "\n",
        "# Ordenando as variáveis pela importância\n",
        "importance_df = importance_df.sort_values(by='Importance', ascending=False)\n",
        "\n",
        "# Visualizando as 10 variáveis mais importantes\n",
        "print(\"\\nVariáveis Mais Importantes para a Popularidade (Random Forest):\")\n",
        "print(importance_df.head(10))"
      ]
    }
  ],
  "metadata": {
    "colab": {
      "provenance": []
    },
    "kernelspec": {
      "display_name": "Python 3",
      "name": "python3"
    },
    "language_info": {
      "name": "python"
    }
  },
  "nbformat": 4,
  "nbformat_minor": 0
}
